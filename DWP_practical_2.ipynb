{
  "nbformat": 4,
  "nbformat_minor": 0,
  "metadata": {
    "colab": {
      "provenance": [],
      "authorship_tag": "ABX9TyNDZbNLKWBfhhqopyaNhKx4",
      "include_colab_link": true
    },
    "kernelspec": {
      "name": "python3",
      "display_name": "Python 3"
    },
    "language_info": {
      "name": "python"
    }
  },
  "cells": [
    {
      "cell_type": "markdown",
      "metadata": {
        "id": "view-in-github",
        "colab_type": "text"
      },
      "source": [
        "<a href=\"https://colab.research.google.com/github/krish-333/TECH-LAB-AND-DWP/blob/main/DWP_practical_2.ipynb\" target=\"_parent\"><img src=\"https://colab.research.google.com/assets/colab-badge.svg\" alt=\"Open In Colab\"/></a>"
      ]
    },
    {
      "cell_type": "code",
      "execution_count": null,
      "metadata": {
        "colab": {
          "base_uri": "https://localhost:8080/"
        },
        "id": "k8g_08ZdfaUC",
        "outputId": "38f91d57-0afd-407d-f72f-54c7540dede8"
      },
      "outputs": [
        {
          "output_type": "stream",
          "name": "stdout",
          "text": [
            "   color Size Category\n",
            "0    red    s        A\n",
            "1  green    m        B\n",
            "2   blue    l        A\n",
            "3  green    m        A\n",
            "4   blue    s        B\n",
            "5    red    l        C\n"
          ]
        }
      ],
      "source": [
        "# one hot encoding\n",
        "import pandas as pd\n",
        "from sklearn.preprocessing import LabelEncoder, OneHotEncoder\n",
        "import numpy as np\n",
        "\n",
        "#sample data\n",
        "data={\n",
        "    'color':['red','green','blue','green','blue','red'],\n",
        "    'Size':['s','m','l','m','s','l'],\n",
        "    'Category':['A','B','A','A','B','C']\n",
        "}\n",
        "df=pd.DataFrame(data)\n",
        "print(df)\n",
        "\n",
        "\n"
      ]
    },
    {
      "cell_type": "code",
      "source": [
        "#1\n",
        "one_hot= pd.get_dummies(df['color'])\n",
        "df_one_hot=pd.concat([df,one_hot],axis=1)\n",
        "print(df_one_hot)\n"
      ],
      "metadata": {
        "colab": {
          "base_uri": "https://localhost:8080/"
        },
        "id": "8plur8phjD_p",
        "outputId": "875fa727-368f-4f06-b986-8f63311a3d6f"
      },
      "execution_count": null,
      "outputs": [
        {
          "output_type": "stream",
          "name": "stdout",
          "text": [
            "   color Size Category   blue  green    red\n",
            "0    red    s        A  False  False   True\n",
            "1  green    m        B  False   True  False\n",
            "2   blue    l        A   True  False  False\n",
            "3  green    m        A  False   True  False\n",
            "4   blue    s        B   True  False  False\n",
            "5    red    l        C  False  False   True\n"
          ]
        }
      ]
    },
    {
      "cell_type": "code",
      "source": [
        "#2\n",
        "label_encoder=LabelEncoder()\n",
        "df['color_label']=label_encoder.fit_transform(df['color'])\n",
        "df['size_label']=label_encoder.fit_transform(df['Size'])\n",
        "df['category_label']=label_encoder.fit_transform(df['Category'])\n",
        "print(df[['color','color_label','Size','Category','category_label']])"
      ],
      "metadata": {
        "colab": {
          "base_uri": "https://localhost:8080/"
        },
        "id": "JpDONipIkSNc",
        "outputId": "e55a8a6e-06a2-498b-a9d7-a8ef871c241a"
      },
      "execution_count": null,
      "outputs": [
        {
          "output_type": "stream",
          "name": "stdout",
          "text": [
            "   color  color_label Size Category  category_label\n",
            "0    red            2    s        A               0\n",
            "1  green            1    m        B               1\n",
            "2   blue            0    l        A               0\n",
            "3  green            1    m        A               0\n",
            "4   blue            0    s        B               1\n",
            "5    red            2    l        C               2\n"
          ]
        }
      ]
    },
    {
      "cell_type": "code",
      "source": [
        "#3\n",
        "ferq_encoding=df['Category'].value_counts().to_dict()\n",
        "df['Category_frequency']=df['Category'].map(ferq_encoding)\n",
        "print(df[['Category','Category_frequency']])"
      ],
      "metadata": {
        "colab": {
          "base_uri": "https://localhost:8080/"
        },
        "id": "iKvltzs5k-qK",
        "outputId": "e2eb0bfb-050d-44e4-a625-d6c4667b6d44"
      },
      "execution_count": null,
      "outputs": [
        {
          "output_type": "stream",
          "name": "stdout",
          "text": [
            "  Category  Category_frequency\n",
            "0        A                   3\n",
            "1        B                   2\n",
            "2        A                   3\n",
            "3        A                   3\n",
            "4        B                   2\n",
            "5        C                   1\n"
          ]
        }
      ]
    },
    {
      "cell_type": "code",
      "source": [
        "#4\n",
        "ordinal_mapping={'s':1,'m':2,'l':3}\n",
        "df['Size_ordinal']=df['Size'].map(ordinal_mapping)\n",
        "print(df[['Size','Size_ordinal']])\n",
        "\n",
        "\n",
        "\n",
        "\n"
      ],
      "metadata": {
        "colab": {
          "base_uri": "https://localhost:8080/"
        },
        "id": "NkoVFv_AllTO",
        "outputId": "334f8980-b6d9-4d80-9b7b-ad4b1f2ebd76"
      },
      "execution_count": null,
      "outputs": [
        {
          "output_type": "stream",
          "name": "stdout",
          "text": [
            "  Size  Size_ordinal\n",
            "0    s             1\n",
            "1    m             2\n",
            "2    l             3\n",
            "3    m             2\n",
            "4    s             1\n",
            "5    l             3\n"
          ]
        }
      ]
    },
    {
      "cell_type": "code",
      "source": [
        "#5\n",
        "mean_encoding=df.groupby('Category')['Size'].apply(lambda x:x.map({'s':1,'m':2,'l':3}).mean()).to_dict()\n",
        "df['Category_mean']=df['Category'].map(mean_encoding)\n",
        "print(df[['Category','Category_mean']])"
      ],
      "metadata": {
        "colab": {
          "base_uri": "https://localhost:8080/"
        },
        "id": "lLgAdjWanKj-",
        "outputId": "dcb2fc9d-8c80-455f-cce9-cba34352512b"
      },
      "execution_count": null,
      "outputs": [
        {
          "output_type": "stream",
          "name": "stdout",
          "text": [
            "  Category  Category_mean\n",
            "0        A            2.0\n",
            "1        B            1.5\n",
            "2        A            2.0\n",
            "3        A            2.0\n",
            "4        B            1.5\n",
            "5        C            3.0\n"
          ]
        }
      ]
    },
    {
      "cell_type": "code",
      "source": [],
      "metadata": {
        "id": "1y46oL5CoWRV"
      },
      "execution_count": null,
      "outputs": []
    }
  ]
}